{
 "cells": [
  {
   "cell_type": "code",
   "execution_count": 2,
   "metadata": {},
   "outputs": [
    {
     "name": "stderr",
     "output_type": "stream",
     "text": [
      "/home/mkcmtcc-user/openr1/lib/python3.11/site-packages/tqdm/auto.py:21: TqdmWarning: IProgress not found. Please update jupyter and ipywidgets. See https://ipywidgets.readthedocs.io/en/stable/user_install.html\n",
      "  from .autonotebook import tqdm as notebook_tqdm\n"
     ]
    }
   ],
   "source": [
    "import torch\n",
    "from transformers import AutoModelForCausalLM, AutoTokenizer\n",
    "from datasets import load_dataset\n",
    "\n",
    "import os\n",
    "\n",
    "os.chdir(\"..\")"
   ]
  },
  {
   "cell_type": "code",
   "execution_count": 3,
   "metadata": {},
   "outputs": [],
   "source": [
    "\n",
    "\n",
    "os.environ[\"HF_HUB_ENABLE_HF_TRANSFER\"] = \"1\"\n",
    "\n",
    "compute_dtype = torch.bfloat16\n",
    "device   = 'cuda'\n",
    "model_id = \"deepseek-ai/DeepSeek-R1-Distill-Qwen-7B\"\n",
    "\n",
    "# model     = AutoModelForCausalLM.from_pretrained(model_id, torch_dtype=compute_dtype, attn_implementation=\"sdpa\", device_map=device)\n",
    "tokenizer = AutoTokenizer.from_pretrained(model_id)"
   ]
  },
  {
   "cell_type": "code",
   "execution_count": 4,
   "metadata": {},
   "outputs": [],
   "source": [
    "dataset = load_dataset(\"dmitriihook/numina-deepseek-r1-qwen-7b\")[\"train\"]"
   ]
  },
  {
   "cell_type": "code",
   "execution_count": 5,
   "metadata": {},
   "outputs": [],
   "source": [
    "tokenizer.chat_template = tokenizer.chat_template.replace(\"{% if '</think>' in content %}{% set content = content.split('</think>')[-1] %}{% endif %}\", \"\")"
   ]
  },
  {
   "cell_type": "code",
   "execution_count": 6,
   "metadata": {},
   "outputs": [
    {
     "name": "stdout",
     "output_type": "stream",
     "text": [
      "0.6161616161616161\n"
     ]
    }
   ],
   "source": [
    "import re\n",
    "\n",
    "data = []\n",
    "\n",
    "c = 0\n",
    "t = 0\n",
    "\n",
    "for i, row in enumerate(dataset):\n",
    "    messages = row[\"distilabel_metadata\"][\"raw_input_text_generation_0\"]\n",
    "    generation = row[\"generation\"]\n",
    "\n",
    "    messages = [\n",
    "        messages[0],\n",
    "        {\"content\": generation, \"role\": \"assistant\"}\n",
    "    ]\n",
    "\n",
    "    pattern = r\"\\\\boxed\\{(.*?)\\}\"\n",
    "\n",
    "    solution = row[\"solution\"]\n",
    "    correct_answer = re.findall(pattern, solution)\n",
    "    model_answer = re.findall(pattern, generation)\n",
    "\n",
    "    correct = False\n",
    "\n",
    "    if len(model_answer) > 0 and len(correct_answer) > 0:\n",
    "        if model_answer[0] == correct_answer[0]:\n",
    "            correct = True\n",
    "            c += 1\n",
    "\n",
    "    t += 1\n",
    "\n",
    "    chat    = tokenizer.apply_chat_template(messages, tokenize=True, add_generation_prompt=False, return_tensors=\"pt\")\n",
    "\n",
    "    think_pos = torch.where(chat[0] == 151649)[0]\n",
    "    if think_pos.numel() > 0:\n",
    "        data.append({\n",
    "            \"result\": \"success\",\n",
    "            \"pos\": think_pos.item(),\n",
    "            \"len\": len(chat[0]),\n",
    "            \"id\": i,\n",
    "            \"correct\": correct\n",
    "        })\n",
    "    else:\n",
    "        data.append({\n",
    "            \"result\": \"fail\",\n",
    "            \"pos\": None,\n",
    "            \"len\": None,\n",
    "            \"id\": i,\n",
    "            \"correct\": correct\n",
    "        })\n",
    "\n",
    "import json\n",
    "\n",
    "print(c / t)\n",
    "\n",
    "with open(\"positions.json\", \"w\") as f:\n",
    "    json.dump(data, f)"
   ]
  },
  {
   "cell_type": "code",
   "execution_count": 11,
   "metadata": {},
   "outputs": [
    {
     "data": {
      "text/plain": [
       "Dataset({\n",
       "    features: ['problem', 'solution', 'messages', 'generation', 'distilabel_metadata', 'model_name'],\n",
       "    num_rows: 396\n",
       "})"
      ]
     },
     "execution_count": 11,
     "metadata": {},
     "output_type": "execute_result"
    }
   ],
   "source": [
    "dataset"
   ]
  }
 ],
 "metadata": {
  "kernelspec": {
   "display_name": "openr1",
   "language": "python",
   "name": "python3"
  },
  "language_info": {
   "codemirror_mode": {
    "name": "ipython",
    "version": 3
   },
   "file_extension": ".py",
   "mimetype": "text/x-python",
   "name": "python",
   "nbconvert_exporter": "python",
   "pygments_lexer": "ipython3",
   "version": "3.11.10"
  }
 },
 "nbformat": 4,
 "nbformat_minor": 2
}
